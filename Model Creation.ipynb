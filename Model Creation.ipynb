{
 "cells": [
  {
   "cell_type": "code",
   "execution_count": 30,
   "metadata": {},
   "outputs": [
    {
     "name": "stdout",
     "output_type": "stream",
     "text": [
      "Optimize a model with 190 rows, 896 columns and 2688 nonzeros\n",
      "Variable types: 0 continuous, 896 integer (896 binary)\n",
      "Coefficient statistics:\n",
      "  Matrix range     [1e+00, 1e+00]\n",
      "  Objective range  [3e+00, 4e+00]\n",
      "  Bounds range     [1e+00, 1e+00]\n",
      "  RHS range        [1e+00, 3e+00]\n",
      "Found heuristic solution: objective -11.5000000\n",
      "Presolve time: 0.01s\n",
      "Presolved: 190 rows, 896 columns, 2688 nonzeros\n",
      "Variable types: 0 continuous, 896 integer (896 binary)\n",
      "\n",
      "Root relaxation: objective 8.000000e+00, 383 iterations, 0.00 seconds\n",
      "\n",
      "    Nodes    |    Current Node    |     Objective Bounds      |     Work\n",
      " Expl Unexpl |  Obj  Depth IntInf | Incumbent    BestBd   Gap | It/Node Time\n",
      "\n",
      "*    0     0               0       8.0000000    8.00000  0.00%     -    0s\n",
      "\n",
      "Explored 0 nodes (383 simplex iterations) in 0.06 seconds\n",
      "Thread count was 8 (of 8 available processors)\n",
      "\n",
      "Solution count 2: 8 -11.5 \n",
      "\n",
      "Optimal solution found (tolerance 1.00e-04)\n",
      "Best objective 8.000000000000e+00, best bound 8.000000000000e+00, gap 0.0000%\n"
     ]
    }
   ],
   "source": [
    "from gurobipy import *\n",
    "\n",
    "M = Model()\n",
    "# number of players in the team\n",
    "n = 14\n",
    "# player strength list, either 2.5 or 3.0 for each player\n",
    "N = [2.5, 3.0, 3.0, 2.5, 3.0, 2.5, 3.0, 3.0, 2.5, 2.5, 2.5, 3.0, 2.5, 2.5]\n",
    "# opponent strength list, either 2.5 or 3.0 for each court position\n",
    "N0 = [3.0, 3.0, 3.0, 3.0, 3.0, 2.5, 3.0, 3.0]\n",
    "# number of games in the tournament\n",
    "m = 8\n",
    "# number of slots for a player to play in per game\n",
    "o = 8\n",
    "# minimum number of games each player must play\n",
    "p = 3\n",
    "# availability matrix. 1 if the ith player can make the jth game, 0 if they cannot\n",
    "A = [[1 for j in range(m)] for i in range(n)] \n",
    "# preference matrix. 1 if the ith player prefers the jth game and kth slot, -1 if they prefer not to, 0 if no preference\n",
    "P = [[[0 for k in range(o)] for j in range(m)] for i in range(n)] \n",
    "for j in range(0,m):\n",
    "    P[1][j][6] = 1 #test preferences - TODO: add actual player preferences\n",
    "    P[2][j][7] = 1\n",
    "# 1 if a player i plays in game j on the kth court, 0 if they do not\n",
    "x = M.addVars(n, m, o, vtype=GRB.BINARY)\n",
    "\n",
    "M.update()\n",
    "\n",
    "for i in range(0,n):\n",
    "    M.addConstrs(x.sum(i, j, '*') <= A[i][j] for j in range(0,m)) #players can only play one court in a match, \n",
    "                                                                  #or none if they are not available\n",
    "    M.addConstr(x.sum(i, '*', '*'), GRB.GREATER_EQUAL, p) #players must play at least p games in the season\n",
    "for k in range(0,o):\n",
    "    M.addConstrs(x.sum('*', j, k) == 1 for j in range(0,m)) #all courts must have exactly one player\n",
    "    \n",
    "M.update()\n",
    "\n",
    "expr = LinExpr(-188)\n",
    "opponentSum = 0;\n",
    "for k in range(0,o):\n",
    "    for j in range(0,m):\n",
    "        opponentSum += N0[j]\n",
    "        for i in range(0,n):\n",
    "            expr.add(x[i,j,k], N[i]) # \"overall team strength\" - TODO: rework condition\n",
    "            expr.add(x[i,j,k], P[i][j][k]) # preferences\n",
    "            \n",
    "M.setObjective(expr, GRB.MAXIMIZE)\n",
    "\n",
    "M.optimize()\n"
   ]
  },
  {
   "cell_type": "code",
   "execution_count": 31,
   "metadata": {},
   "outputs": [
    {
     "name": "stdout",
     "output_type": "stream",
     "text": [
      "1\n",
      "1.0\n",
      "1\n",
      "1.0\n",
      "1\n",
      "1.0\n",
      "1\n",
      "1.0\n",
      "1\n",
      "1.0\n",
      "1\n",
      "1.0\n",
      "1\n",
      "1.0\n",
      "1\n",
      "1.0\n"
     ]
    }
   ],
   "source": [
    "for j in range(0,m):\n",
    "    print(P[1][j][6])\n",
    "    print(x[1,j,6].x)"
   ]
  }
 ],
 "metadata": {
  "kernelspec": {
   "display_name": "Python 3",
   "language": "python",
   "name": "python3"
  },
  "language_info": {
   "codemirror_mode": {
    "name": "ipython",
    "version": 3
   },
   "file_extension": ".py",
   "mimetype": "text/x-python",
   "name": "python",
   "nbconvert_exporter": "python",
   "pygments_lexer": "ipython3",
   "version": "3.6.4"
  }
 },
 "nbformat": 4,
 "nbformat_minor": 2
}
