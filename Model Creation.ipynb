{
 "cells": [
  {
   "cell_type": "code",
   "execution_count": 58,
   "metadata": {},
   "outputs": [
    {
     "name": "stdout",
     "output_type": "stream",
     "text": [
      "Optimize a model with 112 rows, 896 columns and 512 nonzeros\n",
      "Variable types: 0 continuous, 896 integer (896 binary)\n",
      "Coefficient statistics:\n",
      "  Matrix range     [1e+00, 1e+00]\n",
      "  Objective range  [1e+00, 1e+00]\n",
      "  Bounds range     [1e+00, 1e+00]\n",
      "  RHS range        [1e+00, 1e+00]\n",
      "Found heuristic solution: objective 8.0000000\n",
      "\n",
      "Explored 0 nodes (0 simplex iterations) in 0.01 seconds\n",
      "Thread count was 1 (of 8 available processors)\n",
      "\n",
      "Solution count 1: 8 \n",
      "\n",
      "Optimal solution found (tolerance 1.00e-04)\n",
      "Best objective 8.000000000000e+00, best bound 8.000000000000e+00, gap 0.0000%\n",
      "8.0\n"
     ]
    }
   ],
   "source": [
    "from gurobipy import *\n",
    "\n",
    "M = Model()\n",
    "# number of players in the team\n",
    "n = 14\n",
    "# number of games in the tournament\n",
    "m = 8\n",
    "# number of slots for a player to play in per game\n",
    "o = 8\n",
    "# minimum number of games each player must play\n",
    "p = 3\n",
    "\n",
    "x = M.addVars(m, n, o, vtype=GRB.BINARY)\n",
    "\n",
    "M.update()\n",
    "\n",
    "for i in range(0,n):\n",
    "    M.addConstrs(x.sum(i, j, '*') <= 1 for j in range(0,m)) #players can only play one court in a match\n",
    "    #M.addConstr(x.sum(i, '*', '*'), GRB.GREATER_EQUAL, p) #players must play at least p games in the season\n",
    "    \n",
    "M.update()\n",
    "\n",
    "#M.setObjective(x.sum(0,'*',0), GRB.MAXIMIZE)\n",
    "M.setObjective(x[0,0,0] + x[0,1,0] + x[0,2,0] + x[0,3,0] + x[0,4,0] + x[0,5,0] + x[0,6,0] + x[0,7,0], GRB.MAXIMIZE)\n",
    "M.optimize()\n",
    "\n",
    "#why don't these two give the same result? One optimizes to 14, the other to 8. 14 is an unreasonable solution.\n",
    "\n",
    "sum = 0;\n",
    "for i in range(0,m):\n",
    "    sum += x[0,i,0].x\n",
    "print(sum)"
   ]
  }
 ],
 "metadata": {
  "kernelspec": {
   "display_name": "Python 3",
   "language": "python",
   "name": "python3"
  },
  "language_info": {
   "codemirror_mode": {
    "name": "ipython",
    "version": 3
   },
   "file_extension": ".py",
   "mimetype": "text/x-python",
   "name": "python",
   "nbconvert_exporter": "python",
   "pygments_lexer": "ipython3",
   "version": "3.6.4"
  }
 },
 "nbformat": 4,
 "nbformat_minor": 2
}
