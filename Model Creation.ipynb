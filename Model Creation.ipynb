{
 "cells": [
  {
   "cell_type": "code",
   "execution_count": 65,
   "metadata": {},
   "outputs": [
    {
     "name": "stdout",
     "output_type": "stream",
     "text": [
      "Optimize a model with 190 rows, 896 columns and 2688 nonzeros\n",
      "Variable types: 0 continuous, 896 integer (896 binary)\n",
      "Coefficient statistics:\n",
      "  Matrix range     [1e+00, 1e+00]\n",
      "  Objective range  [3e+00, 3e+00]\n",
      "  Bounds range     [1e+00, 1e+00]\n",
      "  RHS range        [1e+00, 3e+00]\n",
      "\n",
      "---------------------------------------------------------------------------\n",
      "Multi-objectives: starting optimization with 2 objectives ... \n",
      "---------------------------------------------------------------------------\n",
      "\n",
      "Multi-objectives: applying initial presolve ...\n",
      "---------------------------------------------------------------------------\n",
      "\n",
      "Presolve time: 0.00s\n",
      "Presolved: 190 rows and 896 columns\n",
      "---------------------------------------------------------------------------\n",
      "\n",
      "Multi-objectives: optimize objective 1  ...\n",
      "---------------------------------------------------------------------------\n",
      "\n",
      "Found heuristic solution: objective 0.0000000\n",
      "\n",
      "Explored 0 nodes (0 simplex iterations) in 0.02 seconds\n",
      "Thread count was 1 (of 8 available processors)\n",
      "\n",
      "Solution count 1: 0 \n",
      "\n",
      "Optimal solution found (tolerance 1.00e-04)\n",
      "Best objective 0.000000000000e+00, best bound 0.000000000000e+00, gap 0.0000%\n",
      "---------------------------------------------------------------------------\n",
      "\n",
      "Multi-objectives: optimize objective 2 () ...\n",
      "---------------------------------------------------------------------------\n",
      "\n",
      "\n",
      "Loaded MIP start with objective 174.5\n",
      "\n",
      "Presolve removed 1 rows and 0 columns\n",
      "Presolve time: 0.00s\n",
      "Presolved: 190 rows, 896 columns, 2688 nonzeros\n",
      "Variable types: 0 continuous, 896 integer (896 binary)\n",
      "\n",
      "Root relaxation: objective 1.690000e+02, 276 iterations, 0.00 seconds\n",
      "\n",
      "    Nodes    |    Current Node    |     Objective Bounds      |     Work\n",
      " Expl Unexpl |  Obj  Depth IntInf | Incumbent    BestBd   Gap | It/Node Time\n",
      "\n",
      "*    0     0               0     169.0000000  169.00000  0.00%     -    0s\n",
      "\n",
      "Explored 0 nodes (276 simplex iterations) in 0.07 seconds\n",
      "Thread count was 8 (of 8 available processors)\n",
      "\n",
      "Solution count 2: 169 174.5 \n",
      "\n",
      "Optimal solution found (tolerance 1.00e-04)\n",
      "Best objective 1.690000000000e+02, best bound 1.690000000000e+02, gap 0.0000%\n",
      "\n",
      "---------------------------------------------------------------------------\n",
      "Multi-objectives: solved in 0.09 seconds, solution count 2\n",
      "\n"
     ]
    }
   ],
   "source": [
    "from gurobipy import *\n",
    "\n",
    "M = Model()\n",
    "# number of players in the team\n",
    "n = 14\n",
    "# player strength list, either 2.5 or 3.0 for each player\n",
    "N = [2.5, 3.0, 3.0, 2.5, 3.0, 2.5, 3.0, 3.0, 2.5, 2.5, 2.5, 3.0, 2.5, 2.5]\n",
    "# opponent strength list, either 2.5 or 3.0 for each court position\n",
    "N0 = [3.0, 3.0, 3.0, 2.5, 2.5, 2.5, 3.0, 3.0]\n",
    "# number of games in the tournament\n",
    "m = 8\n",
    "# number of slots for a player to play in per game\n",
    "o = 8\n",
    "# minimum number of games each player must play\n",
    "p = 3\n",
    "# availability matrix. 1 if the ith player can make the jth game, 0 if they cannot\n",
    "A = [[1 for j in range(m)] for i in range(n)] \n",
    "\n",
    "# 1 if a player i plays in game j on the kth court, 0 if they do not\n",
    "x = M.addVars(n, m, o, vtype=GRB.BINARY)\n",
    "\n",
    "M.update()\n",
    "\n",
    "for i in range(0,n):\n",
    "    M.addConstrs(x.sum(i, j, '*') <= A[i][j] for j in range(0,m)) #players can only play one court in a match, \n",
    "                                                                  #or none if they are not available\n",
    "    M.addConstr(x.sum(i, '*', '*'), GRB.GREATER_EQUAL, p) #players must play at least p games in the season\n",
    "for k in range(0,o):\n",
    "    M.addConstrs(x.sum('*', j, k) == 1 for j in range(0,m)) #all courts must have exactly one player\n",
    "    \n",
    "M.update()\n",
    "\n",
    "expr1 = LinExpr(0)\n",
    "opponentSum = 0;\n",
    "for k in range(0,o):\n",
    "    for j in range(0,m):\n",
    "        opponentSum += N0[j]\n",
    "        for i in range(0,n):\n",
    "            expr1.add(x[i,j,k], N[i])\n",
    "            \n",
    "M.setObjectiveN(expr1, 1, GRB.MAXIMIZE)\n",
    "\n",
    "M.optimize()\n"
   ]
  },
  {
   "cell_type": "code",
   "execution_count": 63,
   "metadata": {},
   "outputs": [
    {
     "name": "stdout",
     "output_type": "stream",
     "text": [
      "169.0\n"
     ]
    }
   ],
   "source": [
    "print(expr1.getValue())"
   ]
  }
 ],
 "metadata": {
  "kernelspec": {
   "display_name": "Python 3",
   "language": "python",
   "name": "python3"
  },
  "language_info": {
   "codemirror_mode": {
    "name": "ipython",
    "version": 3
   },
   "file_extension": ".py",
   "mimetype": "text/x-python",
   "name": "python",
   "nbconvert_exporter": "python",
   "pygments_lexer": "ipython3",
   "version": "3.6.4"
  }
 },
 "nbformat": 4,
 "nbformat_minor": 2
}
