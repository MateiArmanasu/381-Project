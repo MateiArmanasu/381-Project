{
 "cells": [
  {
   "cell_type": "code",
   "execution_count": 6,
   "metadata": {},
   "outputs": [
    {
     "name": "stdout",
     "output_type": "stream",
     "text": [
      "Optimize a model with 328 rows, 1048 columns and 5290 nonzeros\n",
      "Variable types: 0 continuous, 1048 integer (1048 binary)\n",
      "Coefficient statistics:\n",
      "  Matrix range     [5e-01, 3e+00]\n",
      "  Objective range  [1e+00, 2e+01]\n",
      "  Bounds range     [1e+00, 1e+00]\n",
      "  RHS range        [1e+00, 6e+00]\n",
      "Found heuristic solution: objective 81.2500000\n",
      "Presolve removed 0 rows and 14 columns\n",
      "Presolve time: 0.01s\n",
      "Presolved: 328 rows, 1034 columns, 4778 nonzeros\n",
      "Variable types: 0 continuous, 1034 integer (1034 binary)\n",
      "\n",
      "Root relaxation: objective 2.920000e+02, 838 iterations, 0.01 seconds\n",
      "\n",
      "    Nodes    |    Current Node    |     Objective Bounds      |     Work\n",
      " Expl Unexpl |  Obj  Depth IntInf | Incumbent    BestBd   Gap | It/Node Time\n",
      "\n",
      "*    0     0               0     292.0000000  292.00000  0.00%     -    0s\n",
      "\n",
      "Explored 0 nodes (838 simplex iterations) in 0.06 seconds\n",
      "Thread count was 8 (of 8 available processors)\n",
      "\n",
      "Solution count 2: 292 81.25 \n",
      "\n",
      "Optimal solution found (tolerance 1.00e-04)\n",
      "Best objective 2.920000000000e+02, best bound 2.920000000000e+02, gap 0.0000%\n"
     ]
    }
   ],
   "source": [
    "from gurobipy import *\n",
    "\n",
    "M = Model()\n",
    "# number of players in the team\n",
    "n = 14\n",
    "# player strength list, either 2.5 or 3.0 for each player\n",
    "N = [2.5, 3.0, 3.0, 2.5, 3.0, 2.5, 3.0, 3.0, 2.5, 2.5, 2.5, 3.0, 2.5, 2.5]\n",
    "# opponent strength list, either 2.5 or 3.0 for each court position\n",
    "N0 = [3.0, 3.0, 3.0, 3.0, 3.0, 2.5, 3.0, 3.0]\n",
    "# number of games in the tournament\n",
    "m = 8\n",
    "# number of slots for a player to play in per game\n",
    "o = 8\n",
    "# minimum number of games each player must play\n",
    "p = 3\n",
    "# availability matrix. 1 if the ith player can make the jth game, 0 if they cannot\n",
    "A = [[1 for j in range(m)] for i in range(n)] \n",
    "# preference matrix. 1 if the ith player prefers the jth game and kth slot, -1 if they prefer not to, 0 if no preference\n",
    "P = [[[0 for k in range(o)] for j in range(m)] for i in range(n)] \n",
    "for j in range(0,m):\n",
    "    P[1][j][6] = 1 #test preferences - TODO: add actual player preferences\n",
    "    P[2][j][7] = 1\n",
    "# constant terms for each objective optimization, in order of: balanced games, spread schedules, high win %, player preferences\n",
    "C = [2,.5,.5,1]\n",
    "# 1 if a player i plays in game j on the kth court, 0 if they do not\n",
    "x = M.addVars(n, m, o, vtype=GRB.BINARY)\n",
    "# 0 if the kth court for the jth game is balanced or favors the Romanian team, 1 if it disfavors the Romanian team\n",
    "bal = M.addVars(m,5, vtype=GRB.BINARY)\n",
    "# 0 if the ith player does not play consecutive matches starting with the jth game. 1 if they do\n",
    "inds = M.addVars(n,m, vtype=GRB.BINARY)\n",
    "\n",
    "M.update()\n",
    "\n",
    "for i in range(0,n):\n",
    "    M.addConstrs(x.sum(i, j, '*') <= A[i][j] for j in range(0,m)) #players can only play one court in a match, \n",
    "                                                                  #or none if they are not available\n",
    "    M.addConstr(x.sum(i, '*', '*'), GRB.GREATER_EQUAL, p) #players must play at least p games in the season\n",
    "    for j in range(0,m-1):\n",
    "        M.addConstr(x.sum(i, j, '*') + x.sum(i,j+1, '*') - inds[i,j] <= 1) #ensures that inds[i,j] will be 1 if consecutive games\n",
    "\n",
    "for j in range(0,m):\n",
    "    for k in [0,2,4]:\n",
    "        expr = LinExpr(-1*N0[k]-N0[k+1])\n",
    "        for i in range(0,n):\n",
    "            expr.add(x[i,j,k], N[i])\n",
    "            expr.add(x[i,j,k+1], N[i])\n",
    "        expr.add(bal[j, int((k+1)/2)], .5)\n",
    "        M.addConstr(expr >= 0) #ensures that bal[j,k] for the doubles courts will be 0 if the romanian team is at least as strong\n",
    "    for k in [6,7]:\n",
    "        expr = LinExpr(-1*N0[k])\n",
    "        for i in range(0,n):\n",
    "            expr.add(x[i,j,k], N[i])\n",
    "        expr.add(bal[j, k-3], .5)\n",
    "        M.addConstr(expr >= 0) #ensures that bal[j,k] for the singles courts will be 0 if the romanian team is at least as strong\n",
    "\n",
    "for k in range(0,o):\n",
    "    M.addConstrs(x.sum('*', j, k) == 1 for j in range(0,m)) #all courts must have exactly one player\n",
    "\n",
    "M.update()\n",
    "        \n",
    "expr = LinExpr(8*sum(N0)*-1*C[2])\n",
    "opponentSum = 0;\n",
    "for k in range(0,o):\n",
    "    for j in range(0,m):\n",
    "        opponentSum += N0[j]\n",
    "        for i in range(0,5):\n",
    "            expr.add(bal[j,i], -1*C[0]) # attempt to balance as many matches as possible\n",
    "            expr.addConstant(C[0])\n",
    "        for i in range(0,n):\n",
    "            expr.add(x[i,j,k], N[i]*C[2]) # \"overall team strength\" - TODO: rework condition\n",
    "            expr.add(x[i,j,k], P[i][j][k]*C[3]) # preferences\n",
    "            expr.add(inds[i,j], -1*C[1]) #consecutive games penalty\n",
    "\n",
    "M.setObjective(expr, GRB.MAXIMIZE)\n",
    "\n",
    "M.optimize()\n"
   ]
  },
  {
   "cell_type": "code",
   "execution_count": 3,
   "metadata": {
    "scrolled": false
   },
   "outputs": [
    {
     "data": {
      "text/plain": [
       "188.0"
      ]
     },
     "execution_count": 3,
     "metadata": {},
     "output_type": "execute_result"
    }
   ],
   "source": [
    "8*sum(N0)"
   ]
  }
 ],
 "metadata": {
  "kernelspec": {
   "display_name": "Python 3",
   "language": "python",
   "name": "python3"
  },
  "language_info": {
   "codemirror_mode": {
    "name": "ipython",
    "version": 3
   },
   "file_extension": ".py",
   "mimetype": "text/x-python",
   "name": "python",
   "nbconvert_exporter": "python",
   "pygments_lexer": "ipython3",
   "version": "3.6.4"
  }
 },
 "nbformat": 4,
 "nbformat_minor": 2
}
